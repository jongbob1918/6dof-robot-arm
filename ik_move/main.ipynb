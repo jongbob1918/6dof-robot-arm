{
 "cells": [
  {
   "cell_type": "code",
   "execution_count": 38,
   "id": "f53e4584",
   "metadata": {},
   "outputs": [
    {
     "name": "stdout",
     "output_type": "stream",
     "text": [
      "Robot said: b'true\\r\\n'\n"
     ]
    }
   ],
   "source": [
    "from time import sleep\n",
    "import serial\n",
    "\n",
    "robot = serial.Serial('/dev/ttyUSB2', 115200, timeout=2)\n",
    "robot.reset_input_buffer()\n",
    "\n",
    "robot.write(b'ready?\\n')\n",
    "sleep(2)\n",
    "\n",
    "if robot.in_waiting:\n",
    "    buff = robot.readline()\n",
    "    print(\"Robot said:\", buff)\n",
    "else:\n",
    "    print(\"⚠️ No data received.\")"
   ]
  },
  {
   "cell_type": "code",
   "execution_count": 44,
   "id": "ed25c1c5",
   "metadata": {},
   "outputs": [
    {
     "data": {
      "text/plain": [
       "19"
      ]
     },
     "execution_count": 44,
     "metadata": {},
     "output_type": "execute_result"
    }
   ],
   "source": [
    "robot.write(b'mov,arm,0,0,0,0,90\\n')"
   ]
  },
  {
   "cell_type": "code",
   "execution_count": null,
   "id": "f5bfbdc0",
   "metadata": {},
   "outputs": [],
   "source": []
  },
  {
   "cell_type": "markdown",
   "id": "44ffe17e",
   "metadata": {},
   "source": []
  }
 ],
 "metadata": {
  "kernelspec": {
   "display_name": "arm_venv",
   "language": "python",
   "name": "python3"
  },
  "language_info": {
   "codemirror_mode": {
    "name": "ipython",
    "version": 3
   },
   "file_extension": ".py",
   "mimetype": "text/x-python",
   "name": "python",
   "nbconvert_exporter": "python",
   "pygments_lexer": "ipython3",
   "version": "3.10.13"
  }
 },
 "nbformat": 4,
 "nbformat_minor": 5
}
